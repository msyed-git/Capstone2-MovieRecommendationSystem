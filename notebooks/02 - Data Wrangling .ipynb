{
 "cells": [
  {
   "cell_type": "markdown",
   "id": "b6bcc5a3",
   "metadata": {},
   "source": [
    "# 02 - Data Wrangling"
   ]
  },
  {
   "cell_type": "markdown",
   "id": "b5837477",
   "metadata": {},
   "source": [
    "## 2.1 Contents:<a id='2.1_Contents'></a>\n",
    "* [2.2_Introduction:](#2.2_Introduction:)\n",
    "* [2.3_Objective:](#2.3_Objective:)\n",
    "* [2.4_Imports:](#2.4_Imports:)\n",
    "* [2.5_Load_Movie_Data:](#2.5_Load_Movie_Data:)\n",
    "* [2.6_Explore_Data:](#2.6_Explore_Data:)"
   ]
  },
  {
   "cell_type": "markdown",
   "id": "9d4b5177",
   "metadata": {},
   "source": [
    "## 2.2 Introduction:\n",
    "In this notebook, we plan on collecting data, cleaning, and organizing data to be used in future steps."
   ]
  },
  {
   "cell_type": "markdown",
   "id": "635aa176",
   "metadata": {},
   "source": [
    "## 2.3 Objective:\n",
    "\n",
    "There are some fundamental questions to resolve in this notebook before you move on.\n",
    "\n",
    "Do you think you may have the data you need to tackle the desired question?\n",
    "Have you identified the required target value?\n",
    "Do you have potentially useful features?\n",
    "Do you have any fundamental issues with the data?"
   ]
  },
  {
   "cell_type": "markdown",
   "id": "db4b486f",
   "metadata": {},
   "source": [
    "## 2.4 Imports:"
   ]
  },
  {
   "cell_type": "code",
   "execution_count": 1,
   "id": "36734454",
   "metadata": {},
   "outputs": [],
   "source": [
    "#Lets get our imports\n",
    "import pandas as pd\n",
    "import seaborn as sns\n",
    "import statistics as stat\n",
    "import numpy as np\n",
    "import matplotlib.pyplot as plt\n",
    "import re\n",
    "import requests\n",
    "import matplotlib.ticker as tick\n",
    "import random\n",
    "\n",
    "from collections import Counter"
   ]
  },
  {
   "cell_type": "markdown",
   "id": "0b4d6e90",
   "metadata": {},
   "source": [
    "## 2.5 Load Movie Data:"
   ]
  },
  {
   "cell_type": "code",
   "execution_count": 3,
   "id": "70f5e6d1",
   "metadata": {},
   "outputs": [],
   "source": [
    "# Load 'TMDB 5000 Dataset'\n",
    "df1 = pd.read_csv('../src/data/TMDB 5000 Movie Dataset/tmdb_5000_credits.csv')\n",
    "df2 = pd.read_csv('../src/data/TMDB 5000 Movie Dataset/tmdb_5000_movies.csv')\n",
    "\n",
    "# Load 'The Movies Dataset'\n",
    "df3 = pd.read_csv('../src/data/The Movies Dataset/Keywords.csv')\n",
    "df4 = pd.read_csv('../src/data/The Movies Dataset/links.csv')\n",
    "df5 = pd.read_csv('../src/data/The Movies Dataset/links_small.csv')\n",
    "df6 = pd.read_csv('../src/data/The Movies Dataset/movies_metadata.csv', dtype= {'popularity': 'object'})\n",
    "#df7 = pd.read_csv('../src/data/The Movies Dataset/ratings.csv')\n",
    "df8 = pd.read_csv('../src/data/The Movies Dataset/ratings_small.csv')"
   ]
  },
  {
   "cell_type": "markdown",
   "id": "0648d2e1",
   "metadata": {},
   "source": [
    "## 2.6 Explore Data:"
   ]
  },
  {
   "cell_type": "code",
   "execution_count": 28,
   "id": "0e45f9bc",
   "metadata": {},
   "outputs": [
    {
     "name": "stdout",
     "output_type": "stream",
     "text": [
      "<class 'pandas.core.frame.DataFrame'>\n",
      "RangeIndex: 45466 entries, 0 to 45465\n",
      "Data columns (total 24 columns):\n",
      " #   Column                 Non-Null Count  Dtype  \n",
      "---  ------                 --------------  -----  \n",
      " 0   adult                  45466 non-null  object \n",
      " 1   belongs_to_collection  4494 non-null   object \n",
      " 2   budget                 45466 non-null  object \n",
      " 3   genres                 45466 non-null  object \n",
      " 4   homepage               7782 non-null   object \n",
      " 5   id                     45466 non-null  object \n",
      " 6   imdb_id                45449 non-null  object \n",
      " 7   original_language      45455 non-null  object \n",
      " 8   original_title         45466 non-null  object \n",
      " 9   overview               44512 non-null  object \n",
      " 10  popularity             45461 non-null  object \n",
      " 11  poster_path            45080 non-null  object \n",
      " 12  production_companies   45463 non-null  object \n",
      " 13  production_countries   45463 non-null  object \n",
      " 14  release_date           45379 non-null  object \n",
      " 15  revenue                45460 non-null  float64\n",
      " 16  runtime                45203 non-null  float64\n",
      " 17  spoken_languages       45460 non-null  object \n",
      " 18  status                 45379 non-null  object \n",
      " 19  tagline                20412 non-null  object \n",
      " 20  title                  45460 non-null  object \n",
      " 21  video                  45460 non-null  object \n",
      " 22  vote_average           45460 non-null  float64\n",
      " 23  vote_count             45460 non-null  float64\n",
      "dtypes: float64(4), object(20)\n",
      "memory usage: 8.3+ MB\n",
      "None\n"
     ]
    }
   ],
   "source": [
    "print(df6.info())"
   ]
  },
  {
   "cell_type": "code",
   "execution_count": 29,
   "id": "59d25cbd",
   "metadata": {},
   "outputs": [
    {
     "name": "stdout",
     "output_type": "stream",
     "text": [
      "0    21.946943\n",
      "1    17.015539\n",
      "2      11.7129\n",
      "3     3.859495\n",
      "4     8.387519\n",
      "Name: popularity, dtype: object\n",
      "count     45461\n",
      "unique    43758\n",
      "top         0.0\n",
      "freq         66\n",
      "Name: popularity, dtype: object\n",
      "<class 'pandas.core.series.Series'>\n",
      "RangeIndex: 45466 entries, 0 to 45465\n",
      "Series name: popularity\n",
      "Non-Null Count  Dtype \n",
      "--------------  ----- \n",
      "45461 non-null  object\n",
      "dtypes: object(1)\n",
      "memory usage: 355.3+ KB\n",
      "None\n"
     ]
    }
   ],
   "source": [
    "print(df6['popularity'].head())\n",
    "print(df6['popularity'].describe())\n",
    "print(df6['popularity'].info())"
   ]
  },
  {
   "cell_type": "code",
   "execution_count": null,
   "id": "a5e086c6",
   "metadata": {},
   "outputs": [],
   "source": []
  }
 ],
 "metadata": {
  "kernelspec": {
   "display_name": "Python 3 (ipykernel)",
   "language": "python",
   "name": "python3"
  },
  "language_info": {
   "codemirror_mode": {
    "name": "ipython",
    "version": 3
   },
   "file_extension": ".py",
   "mimetype": "text/x-python",
   "name": "python",
   "nbconvert_exporter": "python",
   "pygments_lexer": "ipython3",
   "version": "3.9.18"
  }
 },
 "nbformat": 4,
 "nbformat_minor": 5
}
